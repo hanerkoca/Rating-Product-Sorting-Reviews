{
 "cells": [
  {
   "cell_type": "markdown",
   "id": "50933a97",
   "metadata": {
    "papermill": {
     "duration": 0.018488,
     "end_time": "2022-01-05T11:25:36.496084",
     "exception": false,
     "start_time": "2022-01-05T11:25:36.477596",
     "status": "completed"
    },
    "tags": []
   },
   "source": [
    "#### *Description: The Dataset describes ratings and comments of one electronic device from Amazon.*\n",
    "##### *Columns of Dataset:*\n",
    "\n",
    "1. reviewerID: ID Number of Customer\n",
    "2. asin: ID Number of Product\n",
    "3. reviewer Name: Name of Customer\n",
    "4. helpful: Vote of comments (positive, negative)\n",
    "5. reviewText: comment\n",
    "6. overall: rating\n",
    "7. summary: summary of comment\n",
    "8. unixReviewTime: Date of comment, that created from Amazon\n",
    "9. reviewTime: Date of comment\n",
    "10. day_diff: Difference between date of Analyse and date of comment\n",
    "11. helpful_yes: Positive votes of comment (These are from another customers)\n",
    "12. total_vote: total votes\n",
    "\n",
    "##### *Firstly we will calculate the average rating and also time-based-weighted average rating. Then, we will see how the current comments effect the average rating.<br>At the end we will sort the comments with wilson lower bound score more accurately.*\n"
   ]
  },
  {
   "cell_type": "markdown",
   "id": "405a937b",
   "metadata": {
    "papermill": {
     "duration": 0.016479,
     "end_time": "2022-01-05T11:25:36.529209",
     "exception": false,
     "start_time": "2022-01-05T11:25:36.512730",
     "status": "completed"
    },
    "tags": []
   },
   "source": [
    "#### Import the Dataset"
   ]
  },
  {
   "cell_type": "code",
   "execution_count": 1,
   "id": "6444c331",
   "metadata": {
    "execution": {
     "iopub.execute_input": "2022-01-05T11:25:36.568637Z",
     "iopub.status.busy": "2022-01-05T11:25:36.566668Z",
     "iopub.status.idle": "2022-01-05T11:25:37.801247Z",
     "shell.execute_reply": "2022-01-05T11:25:37.801841Z",
     "shell.execute_reply.started": "2022-01-05T10:50:28.926833Z"
    },
    "papermill": {
     "duration": 1.256267,
     "end_time": "2022-01-05T11:25:37.802207",
     "exception": false,
     "start_time": "2022-01-05T11:25:36.545940",
     "status": "completed"
    },
    "tags": []
   },
   "outputs": [],
   "source": [
    "import pandas as pd\n",
    "import math\n",
    "import scipy.stats as st\n",
    "from sklearn.preprocessing import MinMaxScaler"
   ]
  },
  {
   "cell_type": "code",
   "execution_count": 2,
   "id": "28b40ab5",
   "metadata": {
    "execution": {
     "iopub.execute_input": "2022-01-05T11:25:37.840547Z",
     "iopub.status.busy": "2022-01-05T11:25:37.839532Z",
     "iopub.status.idle": "2022-01-05T11:25:37.854301Z",
     "shell.execute_reply": "2022-01-05T11:25:37.854800Z",
     "shell.execute_reply.started": "2022-01-05T10:50:29.938066Z"
    },
    "papermill": {
     "duration": 0.036287,
     "end_time": "2022-01-05T11:25:37.855001",
     "exception": false,
     "start_time": "2022-01-05T11:25:37.818714",
     "status": "completed"
    },
    "tags": []
   },
   "outputs": [
    {
     "name": "stdout",
     "output_type": "stream",
     "text": [
      "/kaggle/input/amazon-reviews/amazon_reviews.csv\n"
     ]
    }
   ],
   "source": [
    "import os\n",
    "for dirname, _, filenames in os.walk('/kaggle/input'):\n",
    "    for filename in filenames:\n",
    "        print(os.path.join(dirname, filename))"
   ]
  },
  {
   "cell_type": "code",
   "execution_count": 3,
   "id": "8f3e95c2",
   "metadata": {
    "execution": {
     "iopub.execute_input": "2022-01-05T11:25:37.893318Z",
     "iopub.status.busy": "2022-01-05T11:25:37.892668Z",
     "iopub.status.idle": "2022-01-05T11:25:37.977250Z",
     "shell.execute_reply": "2022-01-05T11:25:37.976567Z",
     "shell.execute_reply.started": "2022-01-05T10:50:30.512274Z"
    },
    "papermill": {
     "duration": 0.104774,
     "end_time": "2022-01-05T11:25:37.977435",
     "exception": false,
     "start_time": "2022-01-05T11:25:37.872661",
     "status": "completed"
    },
    "tags": []
   },
   "outputs": [],
   "source": [
    "df = pd.read_csv(\"/kaggle/input/amazon-reviews/amazon_reviews.csv\")"
   ]
  },
  {
   "cell_type": "code",
   "execution_count": 4,
   "id": "32a699c0",
   "metadata": {
    "execution": {
     "iopub.execute_input": "2022-01-05T11:25:38.019799Z",
     "iopub.status.busy": "2022-01-05T11:25:38.019086Z",
     "iopub.status.idle": "2022-01-05T11:25:38.042309Z",
     "shell.execute_reply": "2022-01-05T11:25:38.041730Z",
     "shell.execute_reply.started": "2022-01-05T10:50:32.324808Z"
    },
    "papermill": {
     "duration": 0.048545,
     "end_time": "2022-01-05T11:25:38.042486",
     "exception": false,
     "start_time": "2022-01-05T11:25:37.993941",
     "status": "completed"
    },
    "tags": []
   },
   "outputs": [
    {
     "data": {
      "text/html": [
       "<div>\n",
       "<style scoped>\n",
       "    .dataframe tbody tr th:only-of-type {\n",
       "        vertical-align: middle;\n",
       "    }\n",
       "\n",
       "    .dataframe tbody tr th {\n",
       "        vertical-align: top;\n",
       "    }\n",
       "\n",
       "    .dataframe thead th {\n",
       "        text-align: right;\n",
       "    }\n",
       "</style>\n",
       "<table border=\"1\" class=\"dataframe\">\n",
       "  <thead>\n",
       "    <tr style=\"text-align: right;\">\n",
       "      <th></th>\n",
       "      <th>reviewerID</th>\n",
       "      <th>asin</th>\n",
       "      <th>reviewerName</th>\n",
       "      <th>helpful</th>\n",
       "      <th>reviewText</th>\n",
       "      <th>overall</th>\n",
       "      <th>summary</th>\n",
       "      <th>unixReviewTime</th>\n",
       "      <th>reviewTime</th>\n",
       "      <th>day_diff</th>\n",
       "      <th>helpful_yes</th>\n",
       "      <th>total_vote</th>\n",
       "    </tr>\n",
       "  </thead>\n",
       "  <tbody>\n",
       "    <tr>\n",
       "      <th>0</th>\n",
       "      <td>A3SBTW3WS4IQSN</td>\n",
       "      <td>B007WTAJTO</td>\n",
       "      <td>NaN</td>\n",
       "      <td>[0, 0]</td>\n",
       "      <td>No issues.</td>\n",
       "      <td>4.0</td>\n",
       "      <td>Four Stars</td>\n",
       "      <td>1406073600</td>\n",
       "      <td>2014-07-23</td>\n",
       "      <td>138</td>\n",
       "      <td>0</td>\n",
       "      <td>0</td>\n",
       "    </tr>\n",
       "    <tr>\n",
       "      <th>1</th>\n",
       "      <td>A18K1ODH1I2MVB</td>\n",
       "      <td>B007WTAJTO</td>\n",
       "      <td>0mie</td>\n",
       "      <td>[0, 0]</td>\n",
       "      <td>Purchased this for my device, it worked as adv...</td>\n",
       "      <td>5.0</td>\n",
       "      <td>MOAR SPACE!!!</td>\n",
       "      <td>1382659200</td>\n",
       "      <td>2013-10-25</td>\n",
       "      <td>409</td>\n",
       "      <td>0</td>\n",
       "      <td>0</td>\n",
       "    </tr>\n",
       "    <tr>\n",
       "      <th>2</th>\n",
       "      <td>A2FII3I2MBMUIA</td>\n",
       "      <td>B007WTAJTO</td>\n",
       "      <td>1K3</td>\n",
       "      <td>[0, 0]</td>\n",
       "      <td>it works as expected. I should have sprung for...</td>\n",
       "      <td>4.0</td>\n",
       "      <td>nothing to really say....</td>\n",
       "      <td>1356220800</td>\n",
       "      <td>2012-12-23</td>\n",
       "      <td>715</td>\n",
       "      <td>0</td>\n",
       "      <td>0</td>\n",
       "    </tr>\n",
       "    <tr>\n",
       "      <th>3</th>\n",
       "      <td>A3H99DFEG68SR</td>\n",
       "      <td>B007WTAJTO</td>\n",
       "      <td>1m2</td>\n",
       "      <td>[0, 0]</td>\n",
       "      <td>This think has worked out great.Had a diff. br...</td>\n",
       "      <td>5.0</td>\n",
       "      <td>Great buy at this price!!!  *** UPDATE</td>\n",
       "      <td>1384992000</td>\n",
       "      <td>2013-11-21</td>\n",
       "      <td>382</td>\n",
       "      <td>0</td>\n",
       "      <td>0</td>\n",
       "    </tr>\n",
       "    <tr>\n",
       "      <th>4</th>\n",
       "      <td>A375ZM4U047O79</td>\n",
       "      <td>B007WTAJTO</td>\n",
       "      <td>2&amp;amp;1/2Men</td>\n",
       "      <td>[0, 0]</td>\n",
       "      <td>Bought it with Retail Packaging, arrived legit...</td>\n",
       "      <td>5.0</td>\n",
       "      <td>best deal around</td>\n",
       "      <td>1373673600</td>\n",
       "      <td>2013-07-13</td>\n",
       "      <td>513</td>\n",
       "      <td>0</td>\n",
       "      <td>0</td>\n",
       "    </tr>\n",
       "  </tbody>\n",
       "</table>\n",
       "</div>"
      ],
      "text/plain": [
       "       reviewerID        asin  reviewerName helpful  \\\n",
       "0  A3SBTW3WS4IQSN  B007WTAJTO           NaN  [0, 0]   \n",
       "1  A18K1ODH1I2MVB  B007WTAJTO          0mie  [0, 0]   \n",
       "2  A2FII3I2MBMUIA  B007WTAJTO           1K3  [0, 0]   \n",
       "3   A3H99DFEG68SR  B007WTAJTO           1m2  [0, 0]   \n",
       "4  A375ZM4U047O79  B007WTAJTO  2&amp;1/2Men  [0, 0]   \n",
       "\n",
       "                                          reviewText  overall  \\\n",
       "0                                         No issues.      4.0   \n",
       "1  Purchased this for my device, it worked as adv...      5.0   \n",
       "2  it works as expected. I should have sprung for...      4.0   \n",
       "3  This think has worked out great.Had a diff. br...      5.0   \n",
       "4  Bought it with Retail Packaging, arrived legit...      5.0   \n",
       "\n",
       "                                  summary  unixReviewTime  reviewTime  \\\n",
       "0                              Four Stars      1406073600  2014-07-23   \n",
       "1                           MOAR SPACE!!!      1382659200  2013-10-25   \n",
       "2               nothing to really say....      1356220800  2012-12-23   \n",
       "3  Great buy at this price!!!  *** UPDATE      1384992000  2013-11-21   \n",
       "4                        best deal around      1373673600  2013-07-13   \n",
       "\n",
       "   day_diff  helpful_yes  total_vote  \n",
       "0       138            0           0  \n",
       "1       409            0           0  \n",
       "2       715            0           0  \n",
       "3       382            0           0  \n",
       "4       513            0           0  "
      ]
     },
     "execution_count": 4,
     "metadata": {},
     "output_type": "execute_result"
    }
   ],
   "source": [
    "df.head()"
   ]
  },
  {
   "cell_type": "markdown",
   "id": "b3ea2a81",
   "metadata": {
    "papermill": {
     "duration": 0.020602,
     "end_time": "2022-01-05T11:25:38.080758",
     "exception": false,
     "start_time": "2022-01-05T11:25:38.060156",
     "status": "completed"
    },
    "tags": []
   },
   "source": [
    "#### First, we can take our average rating and save it for later."
   ]
  },
  {
   "cell_type": "code",
   "execution_count": 5,
   "id": "e139e142",
   "metadata": {
    "execution": {
     "iopub.execute_input": "2022-01-05T11:25:38.122360Z",
     "iopub.status.busy": "2022-01-05T11:25:38.121646Z",
     "iopub.status.idle": "2022-01-05T11:25:38.132539Z",
     "shell.execute_reply": "2022-01-05T11:25:38.133094Z",
     "shell.execute_reply.started": "2022-01-05T10:50:38.164078Z"
    },
    "papermill": {
     "duration": 0.032669,
     "end_time": "2022-01-05T11:25:38.133270",
     "exception": false,
     "start_time": "2022-01-05T11:25:38.100601",
     "status": "completed"
    },
    "tags": []
   },
   "outputs": [
    {
     "data": {
      "text/plain": [
       "4.587589013224822"
      ]
     },
     "execution_count": 5,
     "metadata": {},
     "output_type": "execute_result"
    }
   ],
   "source": [
    "par = df[\"overall\"].mean()\n",
    "df[\"overall\"].mean()"
   ]
  },
  {
   "cell_type": "markdown",
   "id": "acba625e",
   "metadata": {
    "papermill": {
     "duration": 0.017133,
     "end_time": "2022-01-05T11:25:38.168076",
     "exception": false,
     "start_time": "2022-01-05T11:25:38.150943",
     "status": "completed"
    },
    "tags": []
   },
   "source": [
    "#### Also we are gonna check the quantiles of day difference. Day difference is between the analysis date and the comment date. And we will see that there are already more than 3 months of comments below 3%. That's why we should edit the column \"day_diff\" with scaler, so that all comments are gonna be scaled in a year and name it as \"day_diff_scaled\"."
   ]
  },
  {
   "cell_type": "code",
   "execution_count": 6,
   "id": "4560921d",
   "metadata": {
    "execution": {
     "iopub.execute_input": "2022-01-05T11:25:38.213483Z",
     "iopub.status.busy": "2022-01-05T11:25:38.207297Z",
     "iopub.status.idle": "2022-01-05T11:25:38.223382Z",
     "shell.execute_reply": "2022-01-05T11:25:38.223973Z",
     "shell.execute_reply.started": "2022-01-05T10:50:40.326185Z"
    },
    "papermill": {
     "duration": 0.037898,
     "end_time": "2022-01-05T11:25:38.224180",
     "exception": false,
     "start_time": "2022-01-05T11:25:38.186282",
     "status": "completed"
    },
    "tags": []
   },
   "outputs": [
    {
     "data": {
      "text/plain": [
       "count    4915.000000\n",
       "mean      437.367040\n",
       "std       209.439871\n",
       "min         1.000000\n",
       "1%          6.000000\n",
       "3%         64.420000\n",
       "5%         98.000000\n",
       "25%       281.000000\n",
       "50%       431.000000\n",
       "75%       601.000000\n",
       "90%       708.000000\n",
       "95%       748.000000\n",
       "99%       943.000000\n",
       "max      1064.000000\n",
       "Name: day_diff, dtype: float64"
      ]
     },
     "execution_count": 6,
     "metadata": {},
     "output_type": "execute_result"
    }
   ],
   "source": [
    "df[\"day_diff\"].describe([0.03, 0.05, 0.01, 0.25, 0.75, 0.90, 0.95, 0.99])"
   ]
  },
  {
   "cell_type": "code",
   "execution_count": 7,
   "id": "96ac9a52",
   "metadata": {
    "execution": {
     "iopub.execute_input": "2022-01-05T11:25:38.275884Z",
     "iopub.status.busy": "2022-01-05T11:25:38.275138Z",
     "iopub.status.idle": "2022-01-05T11:25:38.297790Z",
     "shell.execute_reply": "2022-01-05T11:25:38.297227Z",
     "shell.execute_reply.started": "2022-01-05T10:50:42.267247Z"
    },
    "papermill": {
     "duration": 0.056129,
     "end_time": "2022-01-05T11:25:38.297951",
     "exception": false,
     "start_time": "2022-01-05T11:25:38.241822",
     "status": "completed"
    },
    "tags": []
   },
   "outputs": [
    {
     "data": {
      "text/html": [
       "<div>\n",
       "<style scoped>\n",
       "    .dataframe tbody tr th:only-of-type {\n",
       "        vertical-align: middle;\n",
       "    }\n",
       "\n",
       "    .dataframe tbody tr th {\n",
       "        vertical-align: top;\n",
       "    }\n",
       "\n",
       "    .dataframe thead th {\n",
       "        text-align: right;\n",
       "    }\n",
       "</style>\n",
       "<table border=\"1\" class=\"dataframe\">\n",
       "  <thead>\n",
       "    <tr style=\"text-align: right;\">\n",
       "      <th></th>\n",
       "      <th>reviewerID</th>\n",
       "      <th>asin</th>\n",
       "      <th>reviewerName</th>\n",
       "      <th>helpful</th>\n",
       "      <th>reviewText</th>\n",
       "      <th>overall</th>\n",
       "      <th>summary</th>\n",
       "      <th>unixReviewTime</th>\n",
       "      <th>reviewTime</th>\n",
       "      <th>day_diff</th>\n",
       "      <th>helpful_yes</th>\n",
       "      <th>total_vote</th>\n",
       "      <th>day_diff_scaled</th>\n",
       "    </tr>\n",
       "  </thead>\n",
       "  <tbody>\n",
       "    <tr>\n",
       "      <th>0</th>\n",
       "      <td>A3SBTW3WS4IQSN</td>\n",
       "      <td>B007WTAJTO</td>\n",
       "      <td>NaN</td>\n",
       "      <td>[0, 0]</td>\n",
       "      <td>No issues.</td>\n",
       "      <td>4.0</td>\n",
       "      <td>Four Stars</td>\n",
       "      <td>1406073600</td>\n",
       "      <td>2014-07-23</td>\n",
       "      <td>138</td>\n",
       "      <td>0</td>\n",
       "      <td>0</td>\n",
       "      <td>47</td>\n",
       "    </tr>\n",
       "    <tr>\n",
       "      <th>1</th>\n",
       "      <td>A18K1ODH1I2MVB</td>\n",
       "      <td>B007WTAJTO</td>\n",
       "      <td>0mie</td>\n",
       "      <td>[0, 0]</td>\n",
       "      <td>Purchased this for my device, it worked as adv...</td>\n",
       "      <td>5.0</td>\n",
       "      <td>MOAR SPACE!!!</td>\n",
       "      <td>1382659200</td>\n",
       "      <td>2013-10-25</td>\n",
       "      <td>409</td>\n",
       "      <td>0</td>\n",
       "      <td>0</td>\n",
       "      <td>138</td>\n",
       "    </tr>\n",
       "    <tr>\n",
       "      <th>2</th>\n",
       "      <td>A2FII3I2MBMUIA</td>\n",
       "      <td>B007WTAJTO</td>\n",
       "      <td>1K3</td>\n",
       "      <td>[0, 0]</td>\n",
       "      <td>it works as expected. I should have sprung for...</td>\n",
       "      <td>4.0</td>\n",
       "      <td>nothing to really say....</td>\n",
       "      <td>1356220800</td>\n",
       "      <td>2012-12-23</td>\n",
       "      <td>715</td>\n",
       "      <td>0</td>\n",
       "      <td>0</td>\n",
       "      <td>242</td>\n",
       "    </tr>\n",
       "    <tr>\n",
       "      <th>3</th>\n",
       "      <td>A3H99DFEG68SR</td>\n",
       "      <td>B007WTAJTO</td>\n",
       "      <td>1m2</td>\n",
       "      <td>[0, 0]</td>\n",
       "      <td>This think has worked out great.Had a diff. br...</td>\n",
       "      <td>5.0</td>\n",
       "      <td>Great buy at this price!!!  *** UPDATE</td>\n",
       "      <td>1384992000</td>\n",
       "      <td>2013-11-21</td>\n",
       "      <td>382</td>\n",
       "      <td>0</td>\n",
       "      <td>0</td>\n",
       "      <td>129</td>\n",
       "    </tr>\n",
       "    <tr>\n",
       "      <th>4</th>\n",
       "      <td>A375ZM4U047O79</td>\n",
       "      <td>B007WTAJTO</td>\n",
       "      <td>2&amp;amp;1/2Men</td>\n",
       "      <td>[0, 0]</td>\n",
       "      <td>Bought it with Retail Packaging, arrived legit...</td>\n",
       "      <td>5.0</td>\n",
       "      <td>best deal around</td>\n",
       "      <td>1373673600</td>\n",
       "      <td>2013-07-13</td>\n",
       "      <td>513</td>\n",
       "      <td>0</td>\n",
       "      <td>0</td>\n",
       "      <td>173</td>\n",
       "    </tr>\n",
       "  </tbody>\n",
       "</table>\n",
       "</div>"
      ],
      "text/plain": [
       "       reviewerID        asin  reviewerName helpful  \\\n",
       "0  A3SBTW3WS4IQSN  B007WTAJTO           NaN  [0, 0]   \n",
       "1  A18K1ODH1I2MVB  B007WTAJTO          0mie  [0, 0]   \n",
       "2  A2FII3I2MBMUIA  B007WTAJTO           1K3  [0, 0]   \n",
       "3   A3H99DFEG68SR  B007WTAJTO           1m2  [0, 0]   \n",
       "4  A375ZM4U047O79  B007WTAJTO  2&amp;1/2Men  [0, 0]   \n",
       "\n",
       "                                          reviewText  overall  \\\n",
       "0                                         No issues.      4.0   \n",
       "1  Purchased this for my device, it worked as adv...      5.0   \n",
       "2  it works as expected. I should have sprung for...      4.0   \n",
       "3  This think has worked out great.Had a diff. br...      5.0   \n",
       "4  Bought it with Retail Packaging, arrived legit...      5.0   \n",
       "\n",
       "                                  summary  unixReviewTime  reviewTime  \\\n",
       "0                              Four Stars      1406073600  2014-07-23   \n",
       "1                           MOAR SPACE!!!      1382659200  2013-10-25   \n",
       "2               nothing to really say....      1356220800  2012-12-23   \n",
       "3  Great buy at this price!!!  *** UPDATE      1384992000  2013-11-21   \n",
       "4                        best deal around      1373673600  2013-07-13   \n",
       "\n",
       "   day_diff  helpful_yes  total_vote  day_diff_scaled  \n",
       "0       138            0           0               47  \n",
       "1       409            0           0              138  \n",
       "2       715            0           0              242  \n",
       "3       382            0           0              129  \n",
       "4       513            0           0              173  "
      ]
     },
     "execution_count": 7,
     "metadata": {},
     "output_type": "execute_result"
    }
   ],
   "source": [
    "df[\"day_diff_scaled\"] = MinMaxScaler(feature_range=(1,360)).fit(df[[\"day_diff\"]]).transform(df[[\"day_diff\"]])\n",
    "df[\"day_diff_scaled\"] = df[\"day_diff_scaled\"].astype(int)\n",
    "df.head()"
   ]
  },
  {
   "cell_type": "markdown",
   "id": "87603c48",
   "metadata": {
    "papermill": {
     "duration": 0.017771,
     "end_time": "2022-01-05T11:25:38.334503",
     "exception": false,
     "start_time": "2022-01-05T11:25:38.316732",
     "status": "completed"
    },
    "tags": []
   },
   "source": [
    "#### So, now we can make a time based weighted average rating. The idea is, that we are gonna put forward current comments and show the current rating.<br><br> What will we do? What is the time-based-weighted-average?<br><br> We have now all comments and ratings in one year. Day difference will be divided to 4 parts and also we are gonna give our weighted ratings as total of 1, like below:<br>(You can give your scores, it is completely subjective) <br><br> *within 1 month:* 0.28<br>*between 1 and 3 months:* 0.26<br>*between 3 and 6 months:* 0.24<br>*over than 6 months:* 0.22<br>"
   ]
  },
  {
   "cell_type": "code",
   "execution_count": 8,
   "id": "a1667252",
   "metadata": {
    "execution": {
     "iopub.execute_input": "2022-01-05T11:25:38.381682Z",
     "iopub.status.busy": "2022-01-05T11:25:38.380922Z",
     "iopub.status.idle": "2022-01-05T11:25:38.385882Z",
     "shell.execute_reply": "2022-01-05T11:25:38.386582Z",
     "shell.execute_reply.started": "2022-01-05T10:50:45.401677Z"
    },
    "papermill": {
     "duration": 0.033867,
     "end_time": "2022-01-05T11:25:38.386800",
     "exception": false,
     "start_time": "2022-01-05T11:25:38.352933",
     "status": "completed"
    },
    "tags": []
   },
   "outputs": [],
   "source": [
    "tbwa = df.loc[df[\"day_diff_scaled\"] <= 30, \"overall\"].mean() * 28 / 100 + \\\n",
    "df.loc[(df[\"day_diff_scaled\"] > 30) & (df[\"day_diff_scaled\"] <= 90), \"overall\"].mean() * 26 / 100 + \\\n",
    "df.loc[(df[\"day_diff_scaled\"] > 90) & (df[\"day_diff_scaled\"] <= 180), \"overall\"].mean() * 24 / 100 + \\\n",
    "df.loc[df[\"day_diff_scaled\"] > 180, \"overall\"].mean() * 22 / 100"
   ]
  },
  {
   "cell_type": "code",
   "execution_count": 9,
   "id": "d4a923aa",
   "metadata": {
    "execution": {
     "iopub.execute_input": "2022-01-05T11:25:38.431094Z",
     "iopub.status.busy": "2022-01-05T11:25:38.430455Z",
     "iopub.status.idle": "2022-01-05T11:25:38.435647Z",
     "shell.execute_reply": "2022-01-05T11:25:38.436622Z",
     "shell.execute_reply.started": "2022-01-05T10:50:47.205954Z"
    },
    "papermill": {
     "duration": 0.028165,
     "end_time": "2022-01-05T11:25:38.436868",
     "exception": false,
     "start_time": "2022-01-05T11:25:38.408703",
     "status": "completed"
    },
    "tags": []
   },
   "outputs": [
    {
     "name": "stdout",
     "output_type": "stream",
     "text": [
      "Time-Based Weighted Average Rating: 4.65\n",
      "Average Rating: 4.59\n"
     ]
    }
   ],
   "source": [
    "print(\"Time-Based Weighted Average Rating: \" + f'{tbwa:.2f}' + \"\\n\"\n",
    "      \"Average Rating: \" + f'{par:.2f}')"
   ]
  },
  {
   "cell_type": "markdown",
   "id": "4de1ea20",
   "metadata": {
    "papermill": {
     "duration": 0.019617,
     "end_time": "2022-01-05T11:25:38.480651",
     "exception": false,
     "start_time": "2022-01-05T11:25:38.461034",
     "status": "completed"
    },
    "tags": []
   },
   "source": [
    "#### That means, we see the time-based-weighted average rating more than average rating. So it means, current ratings were mostly positive than before."
   ]
  },
  {
   "cell_type": "markdown",
   "id": "781755a2",
   "metadata": {
    "papermill": {
     "duration": 0.018055,
     "end_time": "2022-01-05T11:25:38.517151",
     "exception": false,
     "start_time": "2022-01-05T11:25:38.499096",
     "status": "completed"
    },
    "tags": []
   },
   "source": [
    "#### Not finished! There is a sorting option and it is with Wilson Lower Bound Score.<br><br>Wilson lower bound score provides a way to sort a product based on positive and negative votes.<br>There are positive(helpful_yes) and negative(helpful_no) votes and we want to understand how popular the product will be across the all customers.<br>We can predict with %95 confidence, that means that we have a confidence interval and we use here the low limit.<br>To understanding well, if there are lots of negative votes despite the positive votes more than negatives, it will go down anyway. Because the importance is, less negative votes. Don't forget it. Votes are the evalution of comments. Now let's see how is the wilson lower bound sorting. "
   ]
  },
  {
   "cell_type": "code",
   "execution_count": 10,
   "id": "513cf4cc",
   "metadata": {
    "execution": {
     "iopub.execute_input": "2022-01-05T11:25:38.558038Z",
     "iopub.status.busy": "2022-01-05T11:25:38.557313Z",
     "iopub.status.idle": "2022-01-05T11:25:38.570755Z",
     "shell.execute_reply": "2022-01-05T11:25:38.571280Z",
     "shell.execute_reply.started": "2022-01-05T10:51:32.406380Z"
    },
    "papermill": {
     "duration": 0.035851,
     "end_time": "2022-01-05T11:25:38.571490",
     "exception": false,
     "start_time": "2022-01-05T11:25:38.535639",
     "status": "completed"
    },
    "tags": []
   },
   "outputs": [],
   "source": [
    "df[\"helpful_no\"] = df[\"total_vote\"] - df[\"helpful_yes\"]\n",
    "up = df[\"helpful_yes\"].tolist()\n",
    "down = df[\"helpful_no\"].tolist()\n",
    "comments = pd.DataFrame({\"up\": up, \"down\": down})"
   ]
  },
  {
   "cell_type": "code",
   "execution_count": 11,
   "id": "91c85f51",
   "metadata": {
    "execution": {
     "iopub.execute_input": "2022-01-05T11:25:38.618183Z",
     "iopub.status.busy": "2022-01-05T11:25:38.617151Z",
     "iopub.status.idle": "2022-01-05T11:25:38.619400Z",
     "shell.execute_reply": "2022-01-05T11:25:38.619847Z",
     "shell.execute_reply.started": "2022-01-05T10:51:34.820151Z"
    },
    "papermill": {
     "duration": 0.029944,
     "end_time": "2022-01-05T11:25:38.620032",
     "exception": false,
     "start_time": "2022-01-05T11:25:38.590088",
     "status": "completed"
    },
    "tags": []
   },
   "outputs": [],
   "source": [
    "def wilson_lower_bound(up, down, confidence=0.95):\n",
    "    n = up + down\n",
    "    if n == 0:\n",
    "        return 0\n",
    "    z = st.norm.ppf(1 - (1 - confidence) / 2)\n",
    "    phat = 1.0 * up / n\n",
    "    return (phat + z * z / (2 * n) - z * math.sqrt((phat * (1 - phat) + z * z / (4 * n)) / n)) / (1 + z * z / n)"
   ]
  },
  {
   "cell_type": "code",
   "execution_count": 12,
   "id": "e30f522b",
   "metadata": {
    "execution": {
     "iopub.execute_input": "2022-01-05T11:25:38.674727Z",
     "iopub.status.busy": "2022-01-05T11:25:38.660416Z",
     "iopub.status.idle": "2022-01-05T11:25:38.867914Z",
     "shell.execute_reply": "2022-01-05T11:25:38.868447Z",
     "shell.execute_reply.started": "2022-01-05T10:54:42.804743Z"
    },
    "papermill": {
     "duration": 0.229962,
     "end_time": "2022-01-05T11:25:38.868640",
     "exception": false,
     "start_time": "2022-01-05T11:25:38.638678",
     "status": "completed"
    },
    "tags": []
   },
   "outputs": [],
   "source": [
    "comments[\"wlb\"] = comments.apply(lambda x: wilson_lower_bound(x[\"up\"], x[\"down\"]), axis=1)\n",
    "df[\"wilson_lower_bound\"] = comments[\"wlb\"]"
   ]
  },
  {
   "cell_type": "markdown",
   "id": "d9807799",
   "metadata": {
    "papermill": {
     "duration": 0.020005,
     "end_time": "2022-01-05T11:25:38.907669",
     "exception": false,
     "start_time": "2022-01-05T11:25:38.887664",
     "status": "completed"
    },
    "tags": []
   },
   "source": [
    "#### Here is the list of top 20 comments.<br>As you can see also low ratings have a high place in our list. Because people find the comment useful and they click up vote.<br>If we take the line 3, we see the up votes(positive) 1568 pieces and down votes(negative) 126 pieces. That means, people find that comment useful and they think, that product deserves 1.0 rating.<br>For the compare let's take index number 1609 and 4302. So we see 7 up votes(positive) higher than 14 up votes(positive) because it has no down votes(negative) and 14 up votes(positive) is with 2 down(negative) votes, it means the down votes(negativ) takes the comment go down as I mentioned above."
   ]
  },
  {
   "cell_type": "code",
   "execution_count": 13,
   "id": "b52b76ed",
   "metadata": {
    "execution": {
     "iopub.execute_input": "2022-01-05T11:25:38.958927Z",
     "iopub.status.busy": "2022-01-05T11:25:38.955231Z",
     "iopub.status.idle": "2022-01-05T11:25:38.980966Z",
     "shell.execute_reply": "2022-01-05T11:25:38.980211Z",
     "shell.execute_reply.started": "2022-01-05T10:55:39.760571Z"
    },
    "papermill": {
     "duration": 0.051437,
     "end_time": "2022-01-05T11:25:38.981129",
     "exception": false,
     "start_time": "2022-01-05T11:25:38.929692",
     "status": "completed"
    },
    "tags": []
   },
   "outputs": [
    {
     "data": {
      "text/html": [
       "<div>\n",
       "<style scoped>\n",
       "    .dataframe tbody tr th:only-of-type {\n",
       "        vertical-align: middle;\n",
       "    }\n",
       "\n",
       "    .dataframe tbody tr th {\n",
       "        vertical-align: top;\n",
       "    }\n",
       "\n",
       "    .dataframe thead th {\n",
       "        text-align: right;\n",
       "    }\n",
       "</style>\n",
       "<table border=\"1\" class=\"dataframe\">\n",
       "  <thead>\n",
       "    <tr style=\"text-align: right;\">\n",
       "      <th></th>\n",
       "      <th>overall</th>\n",
       "      <th>summary</th>\n",
       "      <th>helpful_yes</th>\n",
       "      <th>helpful_no</th>\n",
       "      <th>wilson_lower_bound</th>\n",
       "    </tr>\n",
       "  </thead>\n",
       "  <tbody>\n",
       "    <tr>\n",
       "      <th>2031</th>\n",
       "      <td>5.0</td>\n",
       "      <td>UPDATED - Great w/ Galaxy S4 &amp; Galaxy Tab 4 10...</td>\n",
       "      <td>1952</td>\n",
       "      <td>68</td>\n",
       "      <td>0.957544</td>\n",
       "    </tr>\n",
       "    <tr>\n",
       "      <th>3449</th>\n",
       "      <td>5.0</td>\n",
       "      <td>Top of the class among all (budget-priced) mic...</td>\n",
       "      <td>1428</td>\n",
       "      <td>77</td>\n",
       "      <td>0.936519</td>\n",
       "    </tr>\n",
       "    <tr>\n",
       "      <th>4212</th>\n",
       "      <td>1.0</td>\n",
       "      <td>1 Star reviews - Micro SDXC card unmounts itse...</td>\n",
       "      <td>1568</td>\n",
       "      <td>126</td>\n",
       "      <td>0.912139</td>\n",
       "    </tr>\n",
       "    <tr>\n",
       "      <th>317</th>\n",
       "      <td>1.0</td>\n",
       "      <td>Warning, read this!</td>\n",
       "      <td>422</td>\n",
       "      <td>73</td>\n",
       "      <td>0.818577</td>\n",
       "    </tr>\n",
       "    <tr>\n",
       "      <th>4672</th>\n",
       "      <td>5.0</td>\n",
       "      <td>Super high capacity!!!  Excellent price (on Am...</td>\n",
       "      <td>45</td>\n",
       "      <td>4</td>\n",
       "      <td>0.808109</td>\n",
       "    </tr>\n",
       "    <tr>\n",
       "      <th>1835</th>\n",
       "      <td>5.0</td>\n",
       "      <td>I own it</td>\n",
       "      <td>60</td>\n",
       "      <td>8</td>\n",
       "      <td>0.784651</td>\n",
       "    </tr>\n",
       "    <tr>\n",
       "      <th>3981</th>\n",
       "      <td>5.0</td>\n",
       "      <td>Resolving confusion between \"Mobile Ultra\" and...</td>\n",
       "      <td>112</td>\n",
       "      <td>27</td>\n",
       "      <td>0.732136</td>\n",
       "    </tr>\n",
       "    <tr>\n",
       "      <th>3807</th>\n",
       "      <td>3.0</td>\n",
       "      <td>Good buy for the money but wait, I had an issue!</td>\n",
       "      <td>22</td>\n",
       "      <td>3</td>\n",
       "      <td>0.700442</td>\n",
       "    </tr>\n",
       "    <tr>\n",
       "      <th>4306</th>\n",
       "      <td>5.0</td>\n",
       "      <td>Awesome Card!</td>\n",
       "      <td>51</td>\n",
       "      <td>14</td>\n",
       "      <td>0.670334</td>\n",
       "    </tr>\n",
       "    <tr>\n",
       "      <th>4596</th>\n",
       "      <td>1.0</td>\n",
       "      <td>Designed incompatibility/Don't support SanDisk</td>\n",
       "      <td>82</td>\n",
       "      <td>27</td>\n",
       "      <td>0.663595</td>\n",
       "    </tr>\n",
       "    <tr>\n",
       "      <th>315</th>\n",
       "      <td>5.0</td>\n",
       "      <td>Samsung Galaxy Tab2 works with this card if re...</td>\n",
       "      <td>38</td>\n",
       "      <td>10</td>\n",
       "      <td>0.657411</td>\n",
       "    </tr>\n",
       "    <tr>\n",
       "      <th>1465</th>\n",
       "      <td>4.0</td>\n",
       "      <td>Finally.</td>\n",
       "      <td>7</td>\n",
       "      <td>0</td>\n",
       "      <td>0.645670</td>\n",
       "    </tr>\n",
       "    <tr>\n",
       "      <th>1609</th>\n",
       "      <td>5.0</td>\n",
       "      <td>Bet you wish you had one of these</td>\n",
       "      <td>7</td>\n",
       "      <td>0</td>\n",
       "      <td>0.645670</td>\n",
       "    </tr>\n",
       "    <tr>\n",
       "      <th>4302</th>\n",
       "      <td>5.0</td>\n",
       "      <td>Perfect with GoPro Black 3+</td>\n",
       "      <td>14</td>\n",
       "      <td>2</td>\n",
       "      <td>0.639772</td>\n",
       "    </tr>\n",
       "    <tr>\n",
       "      <th>4072</th>\n",
       "      <td>5.0</td>\n",
       "      <td>Used for my Samsung Galaxy Tab 2 7.0</td>\n",
       "      <td>6</td>\n",
       "      <td>0</td>\n",
       "      <td>0.609666</td>\n",
       "    </tr>\n",
       "    <tr>\n",
       "      <th>1072</th>\n",
       "      <td>5.0</td>\n",
       "      <td>Works wonders for the Galaxy Note 2!</td>\n",
       "      <td>5</td>\n",
       "      <td>0</td>\n",
       "      <td>0.565518</td>\n",
       "    </tr>\n",
       "    <tr>\n",
       "      <th>2583</th>\n",
       "      <td>5.0</td>\n",
       "      <td>Works Great with a GoPro 3 Black!</td>\n",
       "      <td>5</td>\n",
       "      <td>0</td>\n",
       "      <td>0.565518</td>\n",
       "    </tr>\n",
       "    <tr>\n",
       "      <th>121</th>\n",
       "      <td>5.0</td>\n",
       "      <td>ready for use on the Galaxy S3</td>\n",
       "      <td>5</td>\n",
       "      <td>0</td>\n",
       "      <td>0.565518</td>\n",
       "    </tr>\n",
       "    <tr>\n",
       "      <th>1142</th>\n",
       "      <td>5.0</td>\n",
       "      <td>Great large capacity card</td>\n",
       "      <td>5</td>\n",
       "      <td>0</td>\n",
       "      <td>0.565518</td>\n",
       "    </tr>\n",
       "    <tr>\n",
       "      <th>1753</th>\n",
       "      <td>5.0</td>\n",
       "      <td>Use Nothing Other Than the Best</td>\n",
       "      <td>5</td>\n",
       "      <td>0</td>\n",
       "      <td>0.565518</td>\n",
       "    </tr>\n",
       "  </tbody>\n",
       "</table>\n",
       "</div>"
      ],
      "text/plain": [
       "      overall                                            summary  helpful_yes  \\\n",
       "2031      5.0  UPDATED - Great w/ Galaxy S4 & Galaxy Tab 4 10...         1952   \n",
       "3449      5.0  Top of the class among all (budget-priced) mic...         1428   \n",
       "4212      1.0  1 Star reviews - Micro SDXC card unmounts itse...         1568   \n",
       "317       1.0                                Warning, read this!          422   \n",
       "4672      5.0  Super high capacity!!!  Excellent price (on Am...           45   \n",
       "1835      5.0                                           I own it           60   \n",
       "3981      5.0  Resolving confusion between \"Mobile Ultra\" and...          112   \n",
       "3807      3.0   Good buy for the money but wait, I had an issue!           22   \n",
       "4306      5.0                                      Awesome Card!           51   \n",
       "4596      1.0     Designed incompatibility/Don't support SanDisk           82   \n",
       "315       5.0  Samsung Galaxy Tab2 works with this card if re...           38   \n",
       "1465      4.0                                           Finally.            7   \n",
       "1609      5.0                  Bet you wish you had one of these            7   \n",
       "4302      5.0                        Perfect with GoPro Black 3+           14   \n",
       "4072      5.0               Used for my Samsung Galaxy Tab 2 7.0            6   \n",
       "1072      5.0               Works wonders for the Galaxy Note 2!            5   \n",
       "2583      5.0                  Works Great with a GoPro 3 Black!            5   \n",
       "121       5.0                     ready for use on the Galaxy S3            5   \n",
       "1142      5.0                          Great large capacity card            5   \n",
       "1753      5.0                    Use Nothing Other Than the Best            5   \n",
       "\n",
       "      helpful_no  wilson_lower_bound  \n",
       "2031          68            0.957544  \n",
       "3449          77            0.936519  \n",
       "4212         126            0.912139  \n",
       "317           73            0.818577  \n",
       "4672           4            0.808109  \n",
       "1835           8            0.784651  \n",
       "3981          27            0.732136  \n",
       "3807           3            0.700442  \n",
       "4306          14            0.670334  \n",
       "4596          27            0.663595  \n",
       "315           10            0.657411  \n",
       "1465           0            0.645670  \n",
       "1609           0            0.645670  \n",
       "4302           2            0.639772  \n",
       "4072           0            0.609666  \n",
       "1072           0            0.565518  \n",
       "2583           0            0.565518  \n",
       "121            0            0.565518  \n",
       "1142           0            0.565518  \n",
       "1753           0            0.565518  "
      ]
     },
     "execution_count": 13,
     "metadata": {},
     "output_type": "execute_result"
    }
   ],
   "source": [
    "df_top_comments = df.sort_values(\"wilson_lower_bound\",ascending=False).head(20)\n",
    "df_top_comments[[\"overall\", \"summary\", \"helpful_yes\", \"helpful_no\", \"wilson_lower_bound\"]]"
   ]
  },
  {
   "cell_type": "code",
   "execution_count": null,
   "id": "e86d0683",
   "metadata": {
    "papermill": {
     "duration": 0.019467,
     "end_time": "2022-01-05T11:25:39.020061",
     "exception": false,
     "start_time": "2022-01-05T11:25:39.000594",
     "status": "completed"
    },
    "tags": []
   },
   "outputs": [],
   "source": []
  }
 ],
 "metadata": {
  "kernelspec": {
   "display_name": "Python 3",
   "language": "python",
   "name": "python3"
  },
  "language_info": {
   "codemirror_mode": {
    "name": "ipython",
    "version": 3
   },
   "file_extension": ".py",
   "mimetype": "text/x-python",
   "name": "python",
   "nbconvert_exporter": "python",
   "pygments_lexer": "ipython3",
   "version": "3.7.12"
  },
  "papermill": {
   "default_parameters": {},
   "duration": 16.864787,
   "end_time": "2022-01-05T11:25:41.684502",
   "environment_variables": {},
   "exception": null,
   "input_path": "__notebook__.ipynb",
   "output_path": "__notebook__.ipynb",
   "parameters": {},
   "start_time": "2022-01-05T11:25:24.819715",
   "version": "2.3.3"
  }
 },
 "nbformat": 4,
 "nbformat_minor": 5
}
